{
 "cells": [
  {
   "cell_type": "markdown",
   "id": "2261ec05-fcb4-420e-97bb-1b69d743b5dc",
   "metadata": {},
   "source": [
    "# Query bucket logs using BigQuery\n",
    "\n",
    "This notebook walks you through how to use bigquery to analyze our usage logging using bigquery.\n",
    "\n",
    "We are using bigquery for several reasons:\n",
    "1. **Saves us time:** Uploading logs from a bucket to bigquery is _fast_, waaaay faster than trying to `gcloud storage rsync` files to a VM or to your laptop.\n",
    "2. **Existing tooling:** Google has some existing tooling and data analysis products built around bigquery that we can use if we want to\n",
    "\n",
    "NOTE: If you have not yet logged in to Google Cloud using the `gcloud` command, be sure to run the following before running the other cells:\n",
    "\n",
    "```bash\n",
    "gcloud auth login --project=sdss-natcap-gef-ckan\n",
    "```"
   ]
  },
  {
   "cell_type": "code",
   "execution_count": null,
   "id": "49ff4f11-acc9-4157-b532-8c69f657a0ff",
   "metadata": {},
   "outputs": [],
   "source": [
    "import os\n",
    "import json\n",
    "\n",
    "from datetime import date\n",
    "from google.cloud import bigquery\n",
    "from google.cloud.exceptions import NotFound\n",
    "\n",
    "client = bigquery.Client()\n",
    "tablename = f\"sdss-natcap-gef-ckan.data_cache_logs.natcap-data-cache-analysis-{date.today().strftime(\"%Y-%m-%d\")}\"\n",
    "print(f\"Considering the table {tablename}\")"
   ]
  },
  {
   "cell_type": "code",
   "execution_count": null,
   "id": "4ed9f49e-601a-49c3-882a-be806c44f052",
   "metadata": {},
   "outputs": [],
   "source": [
    "try:\n",
    "    table = client.get_table(tablename)\n",
    "except (NotFound, ValueError):\n",
    "    with open('cloud_storage_usage_schema_v0.json') as schema_file:\n",
    "        schema = json.load(schema_file)\n",
    "    table = bigquery.Table(tablename, schema=schema)\n",
    "    table = client.create_table(table)  # this actually makes the API request\n",
    "    print(f\"Created table {tablename}\")\n",
    "\n",
    "if table.num_rows > 0:\n",
    "    print(\"Table already has some stuff in it.\")\n",
    "    print(f\"If this is incorrect, please delete the table {tablename} and re-run this cell.\")\n",
    "else:\n",
    "    print(\"Loading table from GCS\")\n",
    "    job_config = bigquery.LoadJobConfig(\n",
    "        schema=schema,\n",
    "        skip_leading_rows=1,\n",
    "        source_format=bigquery.SourceFormat.CSV\n",
    "    )\n",
    "\n",
    "    client.load_table_from_uri(\n",
    "        \"gs://natcap-data-access-logs/natcap-data-cache/natcap-data-cache_usage_*\",\n",
    "        tablename, job_config=job_config\n",
    "    )\n",
    "    print(\"Finished loading from usage CSVs, reloading table\")\n",
    "    table = bigquery.Table(tablename, schema=schema)\n",
    "    print(\"Table finished loading\")"
   ]
  },
  {
   "cell_type": "code",
   "execution_count": null,
   "id": "c8756538-0252-4f86-86f4-8effee932723",
   "metadata": {},
   "outputs": [],
   "source": [
    "# A convenience function to query bigquery and convert the output to a dataframe.\n",
    "\n",
    "def _query_to_dataframe(query):\n",
    "    return client.query_and_wait(query).to_dataframe()\n"
   ]
  },
  {
   "cell_type": "code",
   "execution_count": null,
   "id": "79250150-a80e-42d8-afa6-602a546215b5",
   "metadata": {},
   "outputs": [],
   "source": [
    "# Top 25 downloads by data volume\n",
    "query = f\"\"\"\n",
    "SELECT cs_object, SUM(sc_bytes)/1e9 as gigabytes, count(cs_object) as http_requests\n",
    "  FROM `{tablename}`\n",
    "  where sc_status >= 200 and sc_status < 300 \n",
    "  group by cs_object \n",
    "  order by gigabytes desc \n",
    "  LIMIT 25 \n",
    "\"\"\"\n",
    "_query_to_dataframe(query)"
   ]
  },
  {
   "cell_type": "code",
   "execution_count": null,
   "id": "e2e02b30-5901-46ce-89fe-e366b5bc39eb",
   "metadata": {},
   "outputs": [],
   "source": [
    "# Total egress for all data in the table\n",
    "query = f\"\"\"\n",
    "SELECT SUM(sc_bytes)/1e12 as terabytes\n",
    "  FROM `{tablename}`\n",
    "  where sc_status >= 200 and sc_status < 300\n",
    "\"\"\"\n",
    "_query_to_dataframe(query)"
   ]
  },
  {
   "cell_type": "code",
   "execution_count": null,
   "id": "a09e116a-d74c-44f1-8ebd-dbb33183de6d",
   "metadata": {},
   "outputs": [],
   "source": [
    "# Get top 25 files that have been downloaded directly from the data hub\n",
    "#\n",
    "# The cs_referer attribute has the page that the link came from.\n",
    "referred_from_datahub_query = f\"\"\"\n",
    "SELECT cs_object, cs_referer, count(cs_object) as http_requests\n",
    "    FROM\n",
    "        (SELECT REGEXP_REPLACE(cs_object, \"^'\", \"\") as cs_object, cs_referer, sc_status, cs_method FROM\n",
    "            `{tablename}`)\n",
    "    WHERE sc_status >= 200 \n",
    "        AND sc_status < 300\n",
    "        AND cs_referer LIKE 'https://data.naturalcapitalproject.stanford.edu/dataset/sts-%'\n",
    "        AND cs_object <> ''\n",
    "        AND cs_method LIKE 'GET'\n",
    "    GROUP BY cs_object, cs_referer\n",
    "    ORDER BY http_requests DESC\n",
    "    LIMIT 25\n",
    "\"\"\"\n",
    "_query_to_dataframe(referred_from_datahub_query)"
   ]
  },
  {
   "cell_type": "code",
   "execution_count": null,
   "id": "2d2d3273-73fd-45af-aa2e-206cfe2578f3",
   "metadata": {},
   "outputs": [],
   "source": [
    "# Get top 25 files that have been downloaded directly from cloud storage\n",
    "#\n",
    "# The cs_referer attribute has the page that the link came from, which is empty when the file is directly accessed\n",
    "# NOTE: the http_requests column indicates how many \"chunks\" of the object have been downloaded, where\n",
    "#       a single download of the file would consist of a bunch of chunks.\n",
    "directly_accessed_query = f\"\"\"\n",
    "SELECT cs_object, cs_referer, count(cs_referer) as http_requests\n",
    "    FROM\n",
    "        (SELECT REGEXP_REPLACE(cs_object, \"^'\", \"\") as cs_object, cs_referer, sc_status, cs_method FROM\n",
    "            `{tablename}`)\n",
    "    WHERE sc_status >= 200 \n",
    "        AND sc_status < 300\n",
    "        AND cs_referer IS NOT NULL\n",
    "        AND cs_referer LIKE ''\n",
    "        AND cs_object <> ''\n",
    "        AND cs_method LIKE 'HEAD'\n",
    "    GROUP BY cs_referer, cs_object\n",
    "    ORDER BY http_requests DESC\n",
    "    LIMIT 25\n",
    "\"\"\"\n",
    "_query_to_dataframe(directly_accessed_query)"
   ]
  },
  {
   "cell_type": "markdown",
   "id": "5d265b0b-350f-4f39-9a58-29c5a2ba8e2f",
   "metadata": {},
   "source": [
    "# After you're done\n",
    "\n",
    "Once you've finished working with BigQuery data, be sure to delete the table you created!\n",
    "Bigquery doesn't have a way to easily delete rows, and tables are generally append-only, so deleting the table is the only way.\n",
    "\n",
    "Example (but change the table name to your table name):\n",
    "\n",
    "```shell\n",
    "bq rm data_cache_logs.natcap-data-cache-analysis-2025-06-04\n",
    "```\n"
   ]
  }
 ],
 "metadata": {
  "kernelspec": {
   "display_name": "Python 3 (ipykernel)",
   "language": "python",
   "name": "python3"
  },
  "language_info": {
   "codemirror_mode": {
    "name": "ipython",
    "version": 3
   },
   "file_extension": ".py",
   "mimetype": "text/x-python",
   "name": "python",
   "nbconvert_exporter": "python",
   "pygments_lexer": "ipython3",
   "version": "3.13.3"
  }
 },
 "nbformat": 4,
 "nbformat_minor": 5
}
